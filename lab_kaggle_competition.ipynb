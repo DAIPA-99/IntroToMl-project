{
 "cells": [
  {
   "cell_type": "code",
   "execution_count": 2,
   "metadata": {},
   "outputs": [
    {
     "name": "stdout",
     "output_type": "stream",
     "text": [
      "Intel MKL WARNING: Support of Intel(R) Streaming SIMD Extensions 4.2 (Intel(R) SSE4.2) enabled only processors has been deprecated. Intel oneAPI Math Kernel Library 2025.0 will require Intel(R) Advanced Vector Extensions (Intel(R) AVX) instructions.\n",
      "Intel MKL WARNING: Support of Intel(R) Streaming SIMD Extensions 4.2 (Intel(R) SSE4.2) enabled only processors has been deprecated. Intel oneAPI Math Kernel Library 2025.0 will require Intel(R) Advanced Vector Extensions (Intel(R) AVX) instructions.\n"
     ]
    }
   ],
   "source": [
    "# useful libraries\n",
    "import numpy as np\n",
    "import pandas as pd\n",
    "import matplotlib.pyplot as plt\n",
    "import seaborn as sns\n",
    "from sklearn.linear_model import LogisticRegression\n",
    "from sklearn.metrics import f1_score, accuracy_score, precision_score, recall_score, roc_auc_score\n",
    "from sklearn.model_selection import train_test_split, GridSearchCV\n",
    "from sklearn.preprocessing import StandardScaler\n",
    "from imblearn.over_sampling import SMOTE\n",
    "from sklearn.preprocessing import OneHotEncoder, StandardScaler\n",
    "from sklearn.compose import ColumnTransformer\n",
    "from sklearn.pipeline import Pipeline\n",
    "from sklearn.linear_model import LogisticRegression\n",
    "from sklearn.metrics import f1_score\n",
    "\n",
    "# ignore warnings\n",
    "import warnings\n",
    "warnings.filterwarnings('ignore')\n"
   ]
  },
  {
   "cell_type": "code",
   "execution_count": 3,
   "metadata": {},
   "outputs": [],
   "source": [
    "# setting up default plotting parameters\n",
    "%matplotlib inline\n",
    "\n",
    "plt.rcParams['figure.figsize'] = [20.0, 7.0]\n",
    "plt.rcParams.update({'font.size': 22,})\n",
    "\n",
    "sns.set_palette('viridis')\n",
    "sns.set_style('white')\n",
    "sns.set_context('talk', font_scale=0.8)"
   ]
  },
  {
   "cell_type": "code",
   "execution_count": 4,
   "metadata": {},
   "outputs": [
    {
     "name": "stdout",
     "output_type": "stream",
     "text": [
      "(967332, 14)\n"
     ]
    },
    {
     "data": {
      "text/html": [
       "<div>\n",
       "<style scoped>\n",
       "    .dataframe tbody tr th:only-of-type {\n",
       "        vertical-align: middle;\n",
       "    }\n",
       "\n",
       "    .dataframe tbody tr th {\n",
       "        vertical-align: top;\n",
       "    }\n",
       "\n",
       "    .dataframe thead th {\n",
       "        text-align: right;\n",
       "    }\n",
       "</style>\n",
       "<table border=\"1\" class=\"dataframe\">\n",
       "  <thead>\n",
       "    <tr style=\"text-align: right;\">\n",
       "      <th></th>\n",
       "      <th>auctionId</th>\n",
       "      <th>timeStamp</th>\n",
       "      <th>placementId</th>\n",
       "      <th>websiteId</th>\n",
       "      <th>hashedRefererDeepThree</th>\n",
       "      <th>country</th>\n",
       "      <th>opeartingSystem</th>\n",
       "      <th>browser</th>\n",
       "      <th>browserVersion</th>\n",
       "      <th>device</th>\n",
       "      <th>environmentType</th>\n",
       "      <th>integrationType</th>\n",
       "      <th>articleSafenessCategorization</th>\n",
       "      <th>isSold</th>\n",
       "    </tr>\n",
       "  </thead>\n",
       "  <tbody>\n",
       "    <tr>\n",
       "      <th>0</th>\n",
       "      <td>001ed16b-dd08-4599-b8ef-4f56a373c454_6e5f1087-...</td>\n",
       "      <td>1603815466</td>\n",
       "      <td>120706</td>\n",
       "      <td>68203</td>\n",
       "      <td>1ae7c2d3c28b711c072d8e2eb3869fa59090669bdc153e...</td>\n",
       "      <td>US</td>\n",
       "      <td>Windows</td>\n",
       "      <td>Chrome</td>\n",
       "      <td>86_0</td>\n",
       "      <td>PC</td>\n",
       "      <td>js-web</td>\n",
       "      <td>2</td>\n",
       "      <td>safe</td>\n",
       "      <td>False</td>\n",
       "    </tr>\n",
       "    <tr>\n",
       "      <th>1</th>\n",
       "      <td>0024b36a-4fb5-4070-88fb-fc0bfb1909ed</td>\n",
       "      <td>1603974586</td>\n",
       "      <td>69454</td>\n",
       "      <td>42543</td>\n",
       "      <td>df1108bf6ae49dbccf5eab60ff9d04a6a09dda60ec7290...</td>\n",
       "      <td>RO</td>\n",
       "      <td>Android</td>\n",
       "      <td>Facebook App</td>\n",
       "      <td>293_0</td>\n",
       "      <td>Phone</td>\n",
       "      <td>js-fbwv</td>\n",
       "      <td>1</td>\n",
       "      <td>unsafe</td>\n",
       "      <td>False</td>\n",
       "    </tr>\n",
       "    <tr>\n",
       "      <th>2</th>\n",
       "      <td>003630fa-ad63-4283-be1b-141670132d70_f37c2b23-...</td>\n",
       "      <td>1604229969</td>\n",
       "      <td>100170</td>\n",
       "      <td>57703</td>\n",
       "      <td>cc6957e8aec85a4d920991c53874c5d0780bbfbd469802...</td>\n",
       "      <td>UK</td>\n",
       "      <td>Android</td>\n",
       "      <td>Facebook App</td>\n",
       "      <td>294_0</td>\n",
       "      <td>Phone</td>\n",
       "      <td>js-web</td>\n",
       "      <td>2</td>\n",
       "      <td>safe</td>\n",
       "      <td>True</td>\n",
       "    </tr>\n",
       "    <tr>\n",
       "      <th>3</th>\n",
       "      <td>0048c65a-ce76-43ba-98d2-8e87607468f8</td>\n",
       "      <td>1604156610</td>\n",
       "      <td>100446</td>\n",
       "      <td>57797</td>\n",
       "      <td>7fc0bb7a65d074e003cce786cda2b070f80dd47179c4b9...</td>\n",
       "      <td>ES</td>\n",
       "      <td>Android</td>\n",
       "      <td>Chrome Mobile</td>\n",
       "      <td>86_0</td>\n",
       "      <td>Phone</td>\n",
       "      <td>js-ampsf</td>\n",
       "      <td>1</td>\n",
       "      <td>safe</td>\n",
       "      <td>True</td>\n",
       "    </tr>\n",
       "    <tr>\n",
       "      <th>4</th>\n",
       "      <td>0056b8a7-54f9-4ac8-8d50-f725bf377872</td>\n",
       "      <td>1604004493</td>\n",
       "      <td>119517</td>\n",
       "      <td>67613</td>\n",
       "      <td>3a6552ccbf66ad166aa9005c3e08f70716abd676cfd87b...</td>\n",
       "      <td>FR</td>\n",
       "      <td>Android</td>\n",
       "      <td>Facebook App</td>\n",
       "      <td>293_0</td>\n",
       "      <td>Phone</td>\n",
       "      <td>js-fbwv</td>\n",
       "      <td>1</td>\n",
       "      <td>unsafe</td>\n",
       "      <td>False</td>\n",
       "    </tr>\n",
       "  </tbody>\n",
       "</table>\n",
       "</div>"
      ],
      "text/plain": [
       "                                           auctionId   timeStamp  placementId  \\\n",
       "0  001ed16b-dd08-4599-b8ef-4f56a373c454_6e5f1087-...  1603815466       120706   \n",
       "1               0024b36a-4fb5-4070-88fb-fc0bfb1909ed  1603974586        69454   \n",
       "2  003630fa-ad63-4283-be1b-141670132d70_f37c2b23-...  1604229969       100170   \n",
       "3               0048c65a-ce76-43ba-98d2-8e87607468f8  1604156610       100446   \n",
       "4               0056b8a7-54f9-4ac8-8d50-f725bf377872  1604004493       119517   \n",
       "\n",
       "   websiteId                             hashedRefererDeepThree country  \\\n",
       "0      68203  1ae7c2d3c28b711c072d8e2eb3869fa59090669bdc153e...      US   \n",
       "1      42543  df1108bf6ae49dbccf5eab60ff9d04a6a09dda60ec7290...      RO   \n",
       "2      57703  cc6957e8aec85a4d920991c53874c5d0780bbfbd469802...      UK   \n",
       "3      57797  7fc0bb7a65d074e003cce786cda2b070f80dd47179c4b9...      ES   \n",
       "4      67613  3a6552ccbf66ad166aa9005c3e08f70716abd676cfd87b...      FR   \n",
       "\n",
       "  opeartingSystem        browser browserVersion device environmentType  \\\n",
       "0         Windows         Chrome           86_0     PC          js-web   \n",
       "1         Android   Facebook App          293_0  Phone         js-fbwv   \n",
       "2         Android   Facebook App          294_0  Phone          js-web   \n",
       "3         Android  Chrome Mobile           86_0  Phone        js-ampsf   \n",
       "4         Android   Facebook App          293_0  Phone         js-fbwv   \n",
       "\n",
       "   integrationType articleSafenessCategorization  isSold  \n",
       "0                2                          safe   False  \n",
       "1                1                        unsafe   False  \n",
       "2                2                          safe    True  \n",
       "3                1                          safe    True  \n",
       "4                1                        unsafe   False  "
      ]
     },
     "execution_count": 4,
     "metadata": {},
     "output_type": "execute_result"
    }
   ],
   "source": [
    "# read in data\n",
    "df = pd.read_csv('train.csv')\n",
    "\n",
    "print(df.shape)\n",
    "df.head()"
   ]
  },
  {
   "cell_type": "code",
   "execution_count": 5,
   "metadata": {},
   "outputs": [
    {
     "name": "stdout",
     "output_type": "stream",
     "text": [
      "isSold\n",
      "False    533425\n",
      "True     433907\n",
      "Name: count, dtype: int64\n"
     ]
    }
   ],
   "source": [
    "print(df.isSold.value_counts())"
   ]
  },
  {
   "cell_type": "code",
   "execution_count": 6,
   "metadata": {},
   "outputs": [
    {
     "data": {
      "image/png": "[encoded data removed]",
      "text/plain": [
       "<Figure size 2000x700 with 1 Axes>"
      ]
     },
     "metadata": {},
     "output_type": "display_data"
    }
   ],
   "source": [
    "fig, ax = plt.subplots()\n",
    "g = sns.countplot(data=df, x='integrationType', palette='viridis')\n",
    "g.set_xticklabels(['Not Sold', 'Sold'])\n",
    "\n",
    "def show_values_on_bars(ax):\n",
    "    for p in ax.patches:\n",
    "        _x = p.get_x() + p.get_width() / 2\n",
    "        _y = p.get_y() + p.get_height()\n",
    "        value = '{:.0f}'.format(p.get_height())\n",
    "        ax.text(_x, _y, value, ha=\"center\")\n",
    "\n",
    "show_values_on_bars(ax)\n",
    "\n",
    "sns.despine(left=True, bottom=True)\n",
    "plt.xlabel('')\n",
    "plt.ylabel('')\n",
    "plt.title('Distribution of integrationType', fontsize=30)\n",
    "plt.xticks(fontsize=8)  # Adjust the font size of x-axis tick labels\n",
    "\n",
    "plt.show()"
   ]
  },
  {
   "cell_type": "code",
   "execution_count": 7,
   "metadata": {},
   "outputs": [],
   "source": [
    "\n",
    "# Prétraitement des données\n",
    "X = df.drop('isSold', axis=1)\n",
    "y = df['isSold']\n",
    "X_train, X_test, y_train, y_test = train_test_split(X, y, test_size=0.2, random_state=42)"
   ]
  },
  {
   "cell_type": "code",
   "execution_count": 8,
   "metadata": {},
   "outputs": [],
   "source": [
    "numeric_features = ['timeStamp']\n",
    "categorical_features = ['auctionId', 'placementId', 'websiteId', 'hashedRefererDeepThree', 'country', 'opeartingSystem', 'browser', 'browserVersion', 'device', 'environmentType', 'integrationType', 'articleSafenessCategorization']\n",
    "\n",
    "numeric_transformer = Pipeline(steps=[\n",
    "    ('scaler', StandardScaler())])\n",
    "\n",
    "categorical_transformer = Pipeline(steps=[\n",
    "    ('onehot', OneHotEncoder(handle_unknown='ignore'))])\n",
    "\n",
    "preprocessor = ColumnTransformer(\n",
    "    transformers=[\n",
    "        ('num', numeric_transformer, numeric_features),\n",
    "        ('cat', categorical_transformer, categorical_features)])"
   ]
  },
  {
   "cell_type": "code",
   "execution_count": 9,
   "metadata": {},
   "outputs": [],
   "source": [
    "# Définir la grille des hyperparamètres\n",
    "param_grid = {\n",
    "    'classifier__C': [0.01, 0.1, 1, 10, 100],\n",
    "    'classifier__penalty': ['l1', 'l2'],\n",
    "    'classifier__solver': ['liblinear', 'saga']\n",
    "}\n",
    "\n",
    "model = Pipeline(steps=[('preprocessor', preprocessor),\n",
    "                        ('classifier', LogisticRegression())])"
   ]
  },
  {
   "cell_type": "code",
   "execution_count": 10,
   "metadata": {},
   "outputs": [],
   "source": [
    "# Créer l'objet GridSearchCV\n",
    "grid_search = GridSearchCV(model, param_grid, cv=5, scoring='f1')\n",
    "\n",
    "#Trouver le meilleur model\n",
    "grid_search.fit(X_train, y_train)\n",
    "best_params = grid_search.best_params_\n",
    "best_f1 = grid_search.best_score_\n",
    "best_model = grid_search.best_estimator_"
   ]
  },
  {
   "cell_type": "code",
   "execution_count": null,
   "metadata": {},
   "outputs": [],
   "source": [
    "# Évaluation du modèle final\n",
    "y_pred = best_model.predict(X_test)\n",
    "f1 = f1_score(y_test, y_pred)\n",
    "\n",
    "print(\"Best Parameters:\", best_params)\n",
    "print(\"Best F1-score:\", best_f1)"
   ]
  }
 ],
 "metadata": {
  "kernelspec": {
   "display_name": "Data_Manip",
   "language": "python",
   "name": "python3"
  },
  "language_info": {
   "codemirror_mode": {
    "name": "ipython",
    "version": 3
   },
   "file_extension": ".py",
   "mimetype": "text/x-python",
   "name": "python",
   "nbconvert_exporter": "python",
   "pygments_lexer": "ipython3",
   "version": "3.12.1"
  }
 },
 "nbformat": 4,
 "nbformat_minor": 2
}
